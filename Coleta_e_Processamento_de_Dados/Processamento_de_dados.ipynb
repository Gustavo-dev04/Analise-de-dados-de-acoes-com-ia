{
  "nbformat": 4,
  "nbformat_minor": 0,
  "metadata": {
    "colab": {
      "provenance": [],
      "gpuType": "T4"
    },
    "kernelspec": {
      "name": "python3",
      "display_name": "Python 3"
    },
    "language_info": {
      "name": "python"
    },
    "accelerator": "GPU"
  },
  "cells": [
    {
      "cell_type": "markdown",
      "source": [
        "Coleta e Limpeza de dados para treinamento de modelo de Inteligencia Artificial(AI)\n"
      ],
      "metadata": {
        "id": "KSmArcGJG1Qv"
      }
    }
  ]
}
